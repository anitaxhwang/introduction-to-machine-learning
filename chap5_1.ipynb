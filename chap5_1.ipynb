{
 "cells": [
  {
   "cell_type": "code",
   "execution_count": 2,
   "id": "88688272",
   "metadata": {},
   "outputs": [],
   "source": [
    "import numpy as np\n",
    "from sklearn import datasets\n",
    "from sklearn.pipeline import Pipeline\n",
    "from sklearn.preprocessing import StandardScaler\n",
    "from sklearn.svm import LinearSVC"
   ]
  },
  {
   "cell_type": "code",
   "execution_count": 3,
   "id": "4a4de3d0",
   "metadata": {},
   "outputs": [],
   "source": [
    "iris = datasets.load_iris()\n",
    "X = iris[\"data\"][:, (2, 3)]  # petal length, petal width\n",
    "y = (iris[\"target\"] == 2).astype(np.float64)  # Iris-Virginica\n"
   ]
  },
  {
   "cell_type": "code",
   "execution_count": 4,
   "id": "c56dbd35",
   "metadata": {},
   "outputs": [
    {
     "data": {
      "text/plain": [
       "Pipeline(steps=[('scaler', StandardScaler()),\n",
       "                ('linear_svc', LinearSVC(C=1, loss='hinge', random_state=42))])"
      ]
     },
     "execution_count": 4,
     "metadata": {},
     "output_type": "execute_result"
    }
   ],
   "source": [
    "svm_clf = Pipeline([\n",
    "        (\"scaler\", StandardScaler()),\n",
    "        (\"linear_svc\", LinearSVC(C=1, loss=\"hinge\", random_state=42)),\n",
    "    ])\n",
    "\n",
    "svm_clf.fit(X, y)"
   ]
  },
  {
   "cell_type": "code",
   "execution_count": 5,
   "id": "3052d397",
   "metadata": {},
   "outputs": [
    {
     "data": {
      "text/plain": [
       "array([1.])"
      ]
     },
     "execution_count": 5,
     "metadata": {},
     "output_type": "execute_result"
    }
   ],
   "source": [
    "svm_clf.predict([[5.5, 1.7]])"
   ]
  },
  {
   "cell_type": "code",
   "execution_count": 6,
   "id": "7cda863e",
   "metadata": {},
   "outputs": [],
   "source": [
    "from sklearn.datasets import make_moons\n",
    "X, y = make_moons(n_samples=100, noise=0.15, random_state=42)"
   ]
  },
  {
   "cell_type": "code",
   "execution_count": 7,
   "id": "76c1374d",
   "metadata": {},
   "outputs": [
    {
     "data": {
      "text/plain": [
       "array([[ 1.61383833, -0.49115086],\n",
       "       [ 0.08984723,  0.50439056],\n",
       "       [ 0.74721047, -0.36911116],\n",
       "       [-1.10174514,  0.23685641],\n",
       "       [-0.72871455,  0.14652347],\n",
       "       [-0.65891281,  0.857088  ],\n",
       "       [ 0.22828266,  0.73453868],\n",
       "       [ 1.39439184, -0.45063627],\n",
       "       [ 0.87158283,  0.70852888],\n",
       "       [ 0.88304472, -0.12658445],\n",
       "       [ 0.38220326,  0.76957897],\n",
       "       [-0.32279169,  0.92145523],\n",
       "       [ 1.29900621, -0.64914275],\n",
       "       [-0.63569974,  0.91873422],\n",
       "       [ 1.96899387,  0.297549  ],\n",
       "       [ 1.21073294,  0.37721455],\n",
       "       [ 1.13998191, -0.36088456],\n",
       "       [ 1.06805159, -0.53460667],\n",
       "       [ 0.49598571,  0.66135542],\n",
       "       [-0.26038715,  0.88295876],\n",
       "       [-0.06516219,  0.13092506],\n",
       "       [ 1.87005845, -0.18659309],\n",
       "       [ 0.03146515,  0.79868048],\n",
       "       [-1.03151461,  0.35788726],\n",
       "       [ 0.45814234,  0.00308109],\n",
       "       [ 0.40767679,  0.9574049 ],\n",
       "       [-0.9379972 ,  0.46846678],\n",
       "       [ 2.02675758,  0.09006383],\n",
       "       [ 0.73867736,  0.52356398],\n",
       "       [ 0.71349755, -0.61055519],\n",
       "       [ 0.92445501,  0.79897643],\n",
       "       [-1.05805492,  0.1152524 ],\n",
       "       [ 1.80904221, -0.49580332],\n",
       "       [-0.17181754,  1.27111359],\n",
       "       [ 2.22167197, -0.16625369],\n",
       "       [ 0.8346617 ,  0.34040713],\n",
       "       [ 0.28332589, -0.45537977],\n",
       "       [ 0.40728969, -0.10997402],\n",
       "       [-0.6303002 ,  0.81437199],\n",
       "       [ 0.59525613,  0.93666607],\n",
       "       [-0.99578508, -0.17956306],\n",
       "       [-0.45366574,  0.88489567],\n",
       "       [ 0.73645602,  0.3315385 ],\n",
       "       [ 2.10042161,  0.33716789],\n",
       "       [-0.26764459,  0.94669172],\n",
       "       [ 0.32384572,  1.03101899],\n",
       "       [ 1.59212445, -0.40456525],\n",
       "       [ 0.14332957,  1.13048376],\n",
       "       [ 0.31249817, -0.41220505],\n",
       "       [ 0.51814426,  0.85146409],\n",
       "       [-0.22452786,  1.01733299],\n",
       "       [ 1.131632  ,  0.21402176],\n",
       "       [ 0.3723287 ,  0.75960715],\n",
       "       [-0.63902305,  0.71898449],\n",
       "       [ 0.82849531,  0.65051142],\n",
       "       [ 1.3506206 , -0.20663883],\n",
       "       [ 1.01195087,  0.35059194],\n",
       "       [ 0.35506156, -0.57201701],\n",
       "       [-0.64970203,  0.73792076],\n",
       "       [ 1.60190251, -0.10190367],\n",
       "       [ 0.27455847,  0.01455085],\n",
       "       [ 1.85601581,  0.66573923],\n",
       "       [ 0.12784118,  0.7055097 ],\n",
       "       [-1.12470228,  0.48332509],\n",
       "       [ 0.04738364,  0.50889219],\n",
       "       [ 0.67403854, -0.39105811],\n",
       "       [-1.27201559,  0.064055  ],\n",
       "       [ 0.79988167, -0.23860829],\n",
       "       [ 0.18258616, -0.07268884],\n",
       "       [ 2.40938072,  0.36744482],\n",
       "       [ 1.28279009, -0.43007805],\n",
       "       [-0.78027235,  0.43838237],\n",
       "       [ 0.2196007 , -0.28235199],\n",
       "       [-0.94748558,  0.07166469],\n",
       "       [ 1.96532685,  0.36464118],\n",
       "       [ 0.00762513, -0.0559119 ],\n",
       "       [ 0.68434134, -0.53968897],\n",
       "       [-0.29808882,  0.83628765],\n",
       "       [ 2.04432263,  0.02286165],\n",
       "       [-0.03394274, -0.15814918],\n",
       "       [ 0.17387413, -0.41773394],\n",
       "       [ 1.63958277, -0.0533336 ],\n",
       "       [-0.81839086,  0.44190981],\n",
       "       [-0.18600799,  0.74328273],\n",
       "       [ 0.82045555,  0.13831957],\n",
       "       [-0.01658646,  0.26904656],\n",
       "       [ 0.23277362,  0.91351659],\n",
       "       [ 1.27522216,  0.02650645],\n",
       "       [-0.04098885,  0.92712414],\n",
       "       [ 1.65643511, -0.106336  ],\n",
       "       [ 1.57258804,  0.07318633],\n",
       "       [ 0.88675561, -0.38296277],\n",
       "       [ 1.66515433, -0.16247383],\n",
       "       [ 1.40382802, -0.32089592],\n",
       "       [ 0.53409306,  0.84778239],\n",
       "       [ 0.18250721, -0.17104312],\n",
       "       [ 1.01642634, -0.54001915],\n",
       "       [ 0.51358597,  0.69508995],\n",
       "       [ 1.88061126, -0.05290949],\n",
       "       [-0.05321289,  0.45951006]])"
      ]
     },
     "execution_count": 7,
     "metadata": {},
     "output_type": "execute_result"
    }
   ],
   "source": [
    "X"
   ]
  },
  {
   "cell_type": "code",
   "execution_count": 8,
   "id": "ab140bb4",
   "metadata": {},
   "outputs": [
    {
     "data": {
      "text/plain": [
       "array([1, 1, 1, 0, 0, 0, 0, 1, 0, 0, 0, 0, 1, 0, 1, 0, 1, 1, 0, 0, 1, 1,\n",
       "       0, 0, 1, 0, 0, 1, 0, 1, 0, 0, 1, 0, 1, 0, 1, 1, 0, 0, 0, 0, 0, 1,\n",
       "       0, 0, 1, 0, 1, 0, 0, 0, 0, 0, 0, 1, 0, 1, 0, 1, 1, 1, 1, 0, 1, 1,\n",
       "       0, 1, 1, 1, 1, 0, 1, 0, 1, 1, 1, 0, 1, 1, 1, 1, 0, 0, 0, 1, 0, 0,\n",
       "       0, 1, 1, 1, 1, 1, 0, 1, 1, 0, 1, 1], dtype=int64)"
      ]
     },
     "execution_count": 8,
     "metadata": {},
     "output_type": "execute_result"
    }
   ],
   "source": [
    "y"
   ]
  },
  {
   "cell_type": "code",
   "execution_count": 9,
   "id": "809526a4",
   "metadata": {},
   "outputs": [
    {
     "data": {
      "text/plain": [
       "[<matplotlib.lines.Line2D at 0x2370eaf7940>]"
      ]
     },
     "execution_count": 9,
     "metadata": {},
     "output_type": "execute_result"
    },
    {
     "data": {
      "image/png": "[encoded data removed]",
      "text/plain": [
       "<Figure size 432x288 with 1 Axes>"
      ]
     },
     "metadata": {
      "needs_background": "light"
     },
     "output_type": "display_data"
    }
   ],
   "source": [
    "import matplotlib.pyplot as plt\n",
    "plt.plot(X[:, 0][y==0], X[:, 1][y==0], \"bs\")\n",
    "plt.plot(X[:, 0][y==1], X[:, 1][y==1], \"g^\")"
   ]
  },
  {
   "cell_type": "code",
   "execution_count": 10,
   "id": "db3c78b1",
   "metadata": {},
   "outputs": [
    {
     "name": "stderr",
     "output_type": "stream",
     "text": [
      "D:\\install\\Anaconda3\\lib\\site-packages\\sklearn\\svm\\_base.py:985: ConvergenceWarning: Liblinear failed to converge, increase the number of iterations.\n",
      "  warnings.warn(\"Liblinear failed to converge, increase \"\n"
     ]
    },
    {
     "data": {
      "text/plain": [
       "Pipeline(steps=[('poly_features', PolynomialFeatures(degree=3)),\n",
       "                ('scaler', StandardScaler()),\n",
       "                ('svm_clf', LinearSVC(C=10, loss='hinge', random_state=42))])"
      ]
     },
     "execution_count": 10,
     "metadata": {},
     "output_type": "execute_result"
    }
   ],
   "source": [
    "from sklearn.preprocessing import PolynomialFeatures\n",
    "\n",
    "polynomial_svm_clf = Pipeline([\n",
    "        (\"poly_features\", PolynomialFeatures(degree=3)),\n",
    "        (\"scaler\", StandardScaler()),\n",
    "        (\"svm_clf\", LinearSVC(C=10, loss=\"hinge\", random_state=42))\n",
    "    ])\n",
    "\n",
    "polynomial_svm_clf.fit(X, y)"
   ]
  },
  {
   "cell_type": "code",
   "execution_count": 11,
   "id": "4df4509d",
   "metadata": {},
   "outputs": [],
   "source": [
    "x0s = np.linspace(-1.5, 2.5, 100)\n",
    "x1s = np.linspace(-1, 1.5, 100)"
   ]
  },
  {
   "cell_type": "code",
   "execution_count": 12,
   "id": "999ee627",
   "metadata": {},
   "outputs": [
    {
     "data": {
      "text/plain": [
       "array([-1.5       , -1.45959596, -1.41919192, -1.37878788, -1.33838384,\n",
       "       -1.2979798 , -1.25757576, -1.21717172, -1.17676768, -1.13636364,\n",
       "       -1.0959596 , -1.05555556, -1.01515152, -0.97474747, -0.93434343,\n",
       "       -0.89393939, -0.85353535, -0.81313131, -0.77272727, -0.73232323,\n",
       "       -0.69191919, -0.65151515, -0.61111111, -0.57070707, -0.53030303,\n",
       "       -0.48989899, -0.44949495, -0.40909091, -0.36868687, -0.32828283,\n",
       "       -0.28787879, -0.24747475, -0.20707071, -0.16666667, -0.12626263,\n",
       "       -0.08585859, -0.04545455, -0.00505051,  0.03535354,  0.07575758,\n",
       "        0.11616162,  0.15656566,  0.1969697 ,  0.23737374,  0.27777778,\n",
       "        0.31818182,  0.35858586,  0.3989899 ,  0.43939394,  0.47979798,\n",
       "        0.52020202,  0.56060606,  0.6010101 ,  0.64141414,  0.68181818,\n",
       "        0.72222222,  0.76262626,  0.8030303 ,  0.84343434,  0.88383838,\n",
       "        0.92424242,  0.96464646,  1.00505051,  1.04545455,  1.08585859,\n",
       "        1.12626263,  1.16666667,  1.20707071,  1.24747475,  1.28787879,\n",
       "        1.32828283,  1.36868687,  1.40909091,  1.44949495,  1.48989899,\n",
       "        1.53030303,  1.57070707,  1.61111111,  1.65151515,  1.69191919,\n",
       "        1.73232323,  1.77272727,  1.81313131,  1.85353535,  1.89393939,\n",
       "        1.93434343,  1.97474747,  2.01515152,  2.05555556,  2.0959596 ,\n",
       "        2.13636364,  2.17676768,  2.21717172,  2.25757576,  2.2979798 ,\n",
       "        2.33838384,  2.37878788,  2.41919192,  2.45959596,  2.5       ])"
      ]
     },
     "execution_count": 12,
     "metadata": {},
     "output_type": "execute_result"
    }
   ],
   "source": [
    "x0s"
   ]
  },
  {
   "cell_type": "code",
   "execution_count": 13,
   "id": "1f1ecd92",
   "metadata": {},
   "outputs": [],
   "source": [
    "x0, x1 = np.meshgrid(x0s, x1s)"
   ]
  },
  {
   "cell_type": "code",
   "execution_count": 14,
   "id": "9afefd33",
   "metadata": {},
   "outputs": [
    {
     "data": {
      "text/plain": [
       "array([[-1.5       , -1.45959596, -1.41919192, ...,  2.41919192,\n",
       "         2.45959596,  2.5       ],\n",
       "       [-1.5       , -1.45959596, -1.41919192, ...,  2.41919192,\n",
       "         2.45959596,  2.5       ],\n",
       "       [-1.5       , -1.45959596, -1.41919192, ...,  2.41919192,\n",
       "         2.45959596,  2.5       ],\n",
       "       ...,\n",
       "       [-1.5       , -1.45959596, -1.41919192, ...,  2.41919192,\n",
       "         2.45959596,  2.5       ],\n",
       "       [-1.5       , -1.45959596, -1.41919192, ...,  2.41919192,\n",
       "         2.45959596,  2.5       ],\n",
       "       [-1.5       , -1.45959596, -1.41919192, ...,  2.41919192,\n",
       "         2.45959596,  2.5       ]])"
      ]
     },
     "execution_count": 14,
     "metadata": {},
     "output_type": "execute_result"
    }
   ],
   "source": [
    "x0"
   ]
  },
  {
   "cell_type": "code",
   "execution_count": 15,
   "id": "1ac8d4b1",
   "metadata": {},
   "outputs": [
    {
     "data": {
      "text/plain": [
       "array([[-1.        , -1.        , -1.        , ..., -1.        ,\n",
       "        -1.        , -1.        ],\n",
       "       [-0.97474747, -0.97474747, -0.97474747, ..., -0.97474747,\n",
       "        -0.97474747, -0.97474747],\n",
       "       [-0.94949495, -0.94949495, -0.94949495, ..., -0.94949495,\n",
       "        -0.94949495, -0.94949495],\n",
       "       ...,\n",
       "       [ 1.44949495,  1.44949495,  1.44949495, ...,  1.44949495,\n",
       "         1.44949495,  1.44949495],\n",
       "       [ 1.47474747,  1.47474747,  1.47474747, ...,  1.47474747,\n",
       "         1.47474747,  1.47474747],\n",
       "       [ 1.5       ,  1.5       ,  1.5       , ...,  1.5       ,\n",
       "         1.5       ,  1.5       ]])"
      ]
     },
     "execution_count": 15,
     "metadata": {},
     "output_type": "execute_result"
    }
   ],
   "source": [
    "x1"
   ]
  },
  {
   "cell_type": "code",
   "execution_count": 16,
   "id": "fb498c77",
   "metadata": {},
   "outputs": [],
   "source": [
    "X_new = np.c_[x0.ravel(), x1.ravel()]"
   ]
  },
  {
   "cell_type": "code",
   "execution_count": 17,
   "id": "388f1b1e",
   "metadata": {},
   "outputs": [
    {
     "data": {
      "text/plain": [
       "array([[-1.5       , -1.        ],\n",
       "       [-1.45959596, -1.        ],\n",
       "       [-1.41919192, -1.        ],\n",
       "       ...,\n",
       "       [ 2.41919192,  1.5       ],\n",
       "       [ 2.45959596,  1.5       ],\n",
       "       [ 2.5       ,  1.5       ]])"
      ]
     },
     "execution_count": 17,
     "metadata": {},
     "output_type": "execute_result"
    }
   ],
   "source": [
    "X_new"
   ]
  },
  {
   "cell_type": "code",
   "execution_count": 18,
   "id": "29e0dbf1",
   "metadata": {},
   "outputs": [],
   "source": [
    "y_pred = polynomial_svm_clf.predict(X_new).reshape(x0.shape)"
   ]
  },
  {
   "cell_type": "code",
   "execution_count": 19,
   "id": "09884d5b",
   "metadata": {},
   "outputs": [
    {
     "data": {
      "text/plain": [
       "array([[0, 0, 0, ..., 1, 1, 1],\n",
       "       [0, 0, 0, ..., 1, 1, 1],\n",
       "       [0, 0, 0, ..., 1, 1, 1],\n",
       "       ...,\n",
       "       [0, 0, 0, ..., 1, 1, 1],\n",
       "       [0, 0, 0, ..., 1, 1, 1],\n",
       "       [0, 0, 0, ..., 1, 1, 1]], dtype=int64)"
      ]
     },
     "execution_count": 19,
     "metadata": {},
     "output_type": "execute_result"
    }
   ],
   "source": [
    "y_pred"
   ]
  },
  {
   "cell_type": "code",
   "execution_count": 20,
   "id": "65a7ae7f",
   "metadata": {},
   "outputs": [
    {
     "data": {
      "text/plain": [
       "<matplotlib.contour.QuadContourSet at 0x2370ec04e80>"
      ]
     },
     "execution_count": 20,
     "metadata": {},
     "output_type": "execute_result"
    },
    {
     "data": {
      "image/png": "[encoded data removed]",
      "text/plain": [
       "<Figure size 432x288 with 1 Axes>"
      ]
     },
     "metadata": {
      "needs_background": "light"
     },
     "output_type": "display_data"
    }
   ],
   "source": [
    "plt.plot(X[:, 0][y==0], X[:, 1][y==0], \"bs\")\n",
    "plt.plot(X[:, 0][y==1], X[:, 1][y==1], \"g^\")\n",
    "plt.contourf(x0, x1, y_pred, cmap=plt.cm.brg, alpha=0.2)"
   ]
  },
  {
   "cell_type": "code",
   "execution_count": 21,
   "id": "474e399a",
   "metadata": {},
   "outputs": [
    {
     "data": {
      "text/plain": [
       "Pipeline(steps=[('scaler', StandardScaler()),\n",
       "                ('svm_clf', SVC(C=5, coef0=1, kernel='poly'))])"
      ]
     },
     "execution_count": 21,
     "metadata": {},
     "output_type": "execute_result"
    }
   ],
   "source": [
    "from sklearn.svm import SVC\n",
    "\n",
    "poly_kernel_svm_clf = Pipeline([\n",
    "        (\"scaler\", StandardScaler()),\n",
    "        (\"svm_clf\", SVC(kernel=\"poly\", degree=3, coef0=1, C=5))\n",
    "    ])\n",
    "poly_kernel_svm_clf.fit(X, y)"
   ]
  },
  {
   "cell_type": "code",
   "execution_count": 22,
   "id": "3c78d309",
   "metadata": {},
   "outputs": [
    {
     "data": {
      "text/plain": [
       "Pipeline(steps=[('scaler', StandardScaler()),\n",
       "                ('svm_clf', SVC(C=5, coef0=100, degree=10, kernel='poly'))])"
      ]
     },
     "execution_count": 22,
     "metadata": {},
     "output_type": "execute_result"
    }
   ],
   "source": [
    "poly100_kernel_svm_clf = Pipeline([\n",
    "        (\"scaler\", StandardScaler()),\n",
    "        (\"svm_clf\", SVC(kernel=\"poly\", degree=10, coef0=100, C=5))\n",
    "    ])\n",
    "poly100_kernel_svm_clf.fit(X, y)"
   ]
  },
  {
   "cell_type": "code",
   "execution_count": 23,
   "id": "0db1747b",
   "metadata": {},
   "outputs": [],
   "source": [
    "def plot_predictions(clf, axes):\n",
    "    x0s = np.linspace(axes[0], axes[1], 100)\n",
    "    x1s = np.linspace(axes[2], axes[3], 100)\n",
    "    x0, x1 = np.meshgrid(x0s, x1s)\n",
    "    X = np.c_[x0.ravel(), x1.ravel()]\n",
    "    y_pred = clf.predict(X).reshape(x0.shape)\n",
    "    plt.contourf(x0, x1, y_pred, cmap=plt.cm.brg, alpha=0.2)"
   ]
  },
  {
   "cell_type": "code",
   "execution_count": 24,
   "id": "1944d001",
   "metadata": {},
   "outputs": [],
   "source": [
    "def plot_dataset(X, y, axes):\n",
    "    plt.plot(X[:, 0][y==0], X[:, 1][y==0], \"bs\")\n",
    "    plt.plot(X[:, 0][y==1], X[:, 1][y==1], \"g^\")"
   ]
  },
  {
   "cell_type": "code",
   "execution_count": 25,
   "id": "107e59e7",
   "metadata": {},
   "outputs": [
    {
     "data": {
      "text/plain": [
       "Text(0.5, 1.0, '$d=10, r=100, C=5$')"
      ]
     },
     "execution_count": 25,
     "metadata": {},
     "output_type": "execute_result"
    },
    {
     "data": {
      "image/png": "[encoded data removed]",
      "text/plain": [
       "<Figure size 792x288 with 2 Axes>"
      ]
     },
     "metadata": {
      "needs_background": "light"
     },
     "output_type": "display_data"
    }
   ],
   "source": [
    "plt.figure(figsize=(11, 4))\n",
    "\n",
    "plt.subplot(121)\n",
    "plot_predictions(poly_kernel_svm_clf, [-1.5, 2.5, -1, 1.5])\n",
    "plot_dataset(X, y, [-1.5, 2.5, -1, 1.5])\n",
    "plt.title(r\"$d=3, r=1, C=5$\", fontsize=18)\n",
    "\n",
    "plt.subplot(122)\n",
    "plot_predictions(poly100_kernel_svm_clf, [-1.5, 2.5, -1, 1.5])\n",
    "plot_dataset(X, y, [-1.5, 2.5, -1, 1.5])\n",
    "plt.title(r\"$d=10, r=100, C=5$\", fontsize=18)"
   ]
  },
  {
   "cell_type": "code",
   "execution_count": 26,
   "id": "9627ba35",
   "metadata": {},
   "outputs": [
    {
     "data": {
      "text/plain": [
       "Pipeline(steps=[('scaler', StandardScaler()),\n",
       "                ('svm_clf', SVC(C=0.001, gamma=5))])"
      ]
     },
     "execution_count": 26,
     "metadata": {},
     "output_type": "execute_result"
    }
   ],
   "source": [
    "rbf_kernel_svm_clf = Pipeline([\n",
    "(\"scaler\", StandardScaler()),\n",
    "(\"svm_clf\", SVC(kernel=\"rbf\", gamma=5, C=0.001))\n",
    "])\n",
    "rbf_kernel_svm_clf.fit(X, y)"
   ]
  },
  {
   "cell_type": "code",
   "execution_count": 27,
   "id": "243faed1",
   "metadata": {},
   "outputs": [
    {
     "data": {
      "image/png": "[encoded data removed]",
      "text/plain": [
       "<Figure size 432x288 with 1 Axes>"
      ]
     },
     "metadata": {
      "needs_background": "light"
     },
     "output_type": "display_data"
    }
   ],
   "source": [
    "plot_predictions(rbf_kernel_svm_clf, [-1.5, 2.5, -1, 1.5])\n",
    "plot_dataset(X, y, [-1.5, 2.5, -1, 1.5])"
   ]
  },
  {
   "cell_type": "code",
   "execution_count": 28,
   "id": "73ffd3fd",
   "metadata": {},
   "outputs": [
    {
     "data": {
      "image/png": "[encoded data removed]",
      "text/plain": [
       "<Figure size 432x288 with 1 Axes>"
      ]
     },
     "metadata": {
      "needs_background": "light"
     },
     "output_type": "display_data"
    }
   ],
   "source": [
    "rbf_kernel_svm_clf = Pipeline([\n",
    "(\"scaler\", StandardScaler()),\n",
    "(\"svm_clf\", SVC(kernel=\"rbf\", gamma=0.1, C=0.001))\n",
    "])\n",
    "rbf_kernel_svm_clf.fit(X, y)\n",
    "plot_predictions(rbf_kernel_svm_clf, [-1.5, 2.5, -1, 1.5])\n",
    "plot_dataset(X, y, [-1.5, 2.5, -1, 1.5])"
   ]
  },
  {
   "cell_type": "code",
   "execution_count": 29,
   "id": "75fd5775",
   "metadata": {},
   "outputs": [
    {
     "data": {
      "image/png": "[encoded data removed]",
      "text/plain": [
       "<Figure size 432x288 with 1 Axes>"
      ]
     },
     "metadata": {
      "needs_background": "light"
     },
     "output_type": "display_data"
    }
   ],
   "source": [
    "rbf_kernel_svm_clf = Pipeline([\n",
    "(\"scaler\", StandardScaler()),\n",
    "(\"svm_clf\", SVC(kernel=\"rbf\", gamma=0.1, C=1000))\n",
    "])\n",
    "rbf_kernel_svm_clf.fit(X, y)\n",
    "plot_predictions(rbf_kernel_svm_clf, [-1.5, 2.5, -1, 1.5])\n",
    "plot_dataset(X, y, [-1.5, 2.5, -1, 1.5])"
   ]
  },
  {
   "cell_type": "code",
   "execution_count": 30,
   "id": "7a1374cc",
   "metadata": {},
   "outputs": [
    {
     "data": {
      "image/png": "[encoded data removed]",
      "text/plain": [
       "<Figure size 432x288 with 1 Axes>"
      ]
     },
     "metadata": {
      "needs_background": "light"
     },
     "output_type": "display_data"
    }
   ],
   "source": [
    "rbf_kernel_svm_clf = Pipeline([\n",
    "(\"scaler\", StandardScaler()),\n",
    "(\"svm_clf\", SVC(kernel=\"rbf\", gamma=5, C=1000))\n",
    "])\n",
    "rbf_kernel_svm_clf.fit(X, y)\n",
    "plot_predictions(rbf_kernel_svm_clf, [-1.5, 2.5, -1, 1.5])\n",
    "plot_dataset(X, y, [-1.5, 2.5, -1, 1.5])"
   ]
  },
  {
   "cell_type": "code",
   "execution_count": null,
   "id": "26df6843",
   "metadata": {},
   "outputs": [],
   "source": []
  }
 ],
 "metadata": {
  "kernelspec": {
   "display_name": "Python 3",
   "language": "python",
   "name": "python3"
  },
  "language_info": {
   "codemirror_mode": {
    "name": "ipython",
    "version": 3
   },
   "file_extension": ".py",
   "mimetype": "text/x-python",
   "name": "python",
   "nbconvert_exporter": "python",
   "pygments_lexer": "ipython3",
   "version": "3.8.8"
  }
 },
 "nbformat": 4,
 "nbformat_minor": 5
}
